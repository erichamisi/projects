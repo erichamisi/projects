{
 "cells": [
  {
   "cell_type": "code",
   "execution_count": 5,
   "id": "a2c47ed9",
   "metadata": {},
   "outputs": [
    {
     "name": "stdout",
     "output_type": "stream",
     "text": [
      "Requirement already satisfied: wifi-qrcode-generator in /Users/eric/opt/anaconda3/lib/python3.9/site-packages (1.0.1)\n",
      "Requirement already satisfied: qrcode[pil] in /Users/eric/opt/anaconda3/lib/python3.9/site-packages (from wifi-qrcode-generator) (7.4.2)\n",
      "Requirement already satisfied: pypng in /Users/eric/opt/anaconda3/lib/python3.9/site-packages (from qrcode[pil]->wifi-qrcode-generator) (0.20220715.0)\n",
      "Requirement already satisfied: typing-extensions in /Users/eric/opt/anaconda3/lib/python3.9/site-packages (from qrcode[pil]->wifi-qrcode-generator) (4.3.0)\n",
      "Requirement already satisfied: pillow>=9.1.0 in /Users/eric/opt/anaconda3/lib/python3.9/site-packages (from qrcode[pil]->wifi-qrcode-generator) (9.2.0)\n",
      "Note: you may need to restart the kernel to use updated packages.\n"
     ]
    }
   ],
   "source": [
    "pip install wifi-qrcode-generator\n"
   ]
  },
  {
   "cell_type": "code",
   "execution_count": 8,
   "id": "5abbab63",
   "metadata": {},
   "outputs": [],
   "source": [
    "from wifi_qrcode_generator import wifi_qrcode\n",
    "qr_code=wifi_qrcode(\"clcoding\", hidden=False,\n",
    "                    authentication_type=\"WPA\",password=\"CL@2014\")\n",
    "qr_code_img=qr_code.make_image()\n",
    "qr_code_img.save(\"wifi_qr_code.png\")"
   ]
  },
  {
   "cell_type": "code",
   "execution_count": null,
   "id": "9918df32",
   "metadata": {},
   "outputs": [],
   "source": []
  },
  {
   "cell_type": "code",
   "execution_count": null,
   "id": "53dc9336",
   "metadata": {},
   "outputs": [],
   "source": []
  },
  {
   "cell_type": "code",
   "execution_count": null,
   "id": "e220c471",
   "metadata": {},
   "outputs": [],
   "source": []
  }
 ],
 "metadata": {
  "kernelspec": {
   "display_name": "Python 3 (ipykernel)",
   "language": "python",
   "name": "python3"
  },
  "language_info": {
   "codemirror_mode": {
    "name": "ipython",
    "version": 3
   },
   "file_extension": ".py",
   "mimetype": "text/x-python",
   "name": "python",
   "nbconvert_exporter": "python",
   "pygments_lexer": "ipython3",
   "version": "3.9.13"
  }
 },
 "nbformat": 4,
 "nbformat_minor": 5
}
